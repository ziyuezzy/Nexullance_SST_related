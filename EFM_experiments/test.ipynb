{
 "cells": [
  {
   "cell_type": "code",
   "execution_count": 1,
   "metadata": {},
   "outputs": [],
   "source": [
    "import sys\n",
    "sys.path.append(\"..\")\n",
    "from wrappers import *"
   ]
  },
  {
   "cell_type": "code",
   "execution_count": 2,
   "metadata": {},
   "outputs": [],
   "source": [
    "exp_container = MD_Nexu_sweeper()"
   ]
  },
  {
   "cell_type": "code",
   "execution_count": 3,
   "metadata": {},
   "outputs": [
    {
     "name": "stderr",
     "output_type": "stream",
     "text": [
      "/users/ziyzhang/miniconda3/envs/gt/lib/python3.12/site-packages/numpy/core/getlimits.py:549: UserWarning: The value of the smallest subnormal for <class 'numpy.float64'> type is zero.\n",
      "  setattr(self, word, getattr(machar, word).flat[0])\n",
      "/users/ziyzhang/miniconda3/envs/gt/lib/python3.12/site-packages/numpy/core/getlimits.py:89: UserWarning: The value of the smallest subnormal for <class 'numpy.float64'> type is zero.\n",
      "  return self._float_to_str(self.smallest_subnormal)\n",
      "/users/ziyzhang/miniconda3/envs/gt/lib/python3.12/site-packages/numpy/core/getlimits.py:549: UserWarning: The value of the smallest subnormal for <class 'numpy.float32'> type is zero.\n",
      "  setattr(self, word, getattr(machar, word).flat[0])\n",
      "/users/ziyzhang/miniconda3/envs/gt/lib/python3.12/site-packages/numpy/core/getlimits.py:89: UserWarning: The value of the smallest subnormal for <class 'numpy.float32'> type is zero.\n",
      "  return self._float_to_str(self.smallest_subnormal)\n"
     ]
    },
    {
     "name": "stdout",
     "output_type": "stream",
     "text": [
      "2 incoming matrices, 2 left after filtering\n",
      "edge list file already exists: /users/ziyzhang/EFM_experiments/pickled_data/from_graph_edgelists/(36,5)RRGtopo_edgelist.pickle\n",
      "Set parameter WLSAccessID\n",
      "Set parameter WLSSecret\n",
      "Set parameter LicenseID to value 2411299\n",
      "Academic license 2411299 - for non-commercial use only - registered to zi___@ugent.be\n",
      "Set parameter Threads to value 1\n",
      "Optimal solution found\n",
      "4 incoming matrices, 4 left after filtering\n",
      "edge list file already exists: /users/ziyzhang/EFM_experiments/pickled_data/from_graph_edgelists/(36,5)RRGtopo_edgelist.pickle\n",
      "Set parameter WLSAccessID\n",
      "Set parameter WLSSecret\n",
      "Set parameter LicenseID to value 2411299\n",
      "Academic license 2411299 - for non-commercial use only - registered to zi___@ugent.be\n",
      "Set parameter Threads to value 1\n",
      "Optimal solution found\n",
      "8 incoming matrices, 8 left after filtering\n",
      "edge list file already exists: /users/ziyzhang/EFM_experiments/pickled_data/from_graph_edgelists/(36,5)RRGtopo_edgelist.pickle\n",
      "Set parameter WLSAccessID\n",
      "Set parameter WLSSecret\n",
      "Set parameter LicenseID to value 2411299\n",
      "Academic license 2411299 - for non-commercial use only - registered to zi___@ugent.be\n",
      "Set parameter Threads to value 1\n",
      "Optimal solution found\n"
     ]
    },
    {
     "data": {
      "text/plain": [
       "{'ave_message_lat_us': 2.5365438495120696,\n",
       " 'benchtime_ms': [454.348, 428.956, 415.916],\n",
       " 'sampling_interval_us': [270.787, 135.3935, 67.69675],\n",
       " 'obj_func_ECMP_ASP': [6.517922300744514,\n",
       "  5.057939273310819,\n",
       "  3.562891525728505],\n",
       " 'obj_func_MD': [12.671731833574126, 10.423131222292291, 5.199637407875751]}"
      ]
     },
     "execution_count": 3,
     "metadata": {},
     "output_type": "execute_result"
    }
   ],
   "source": [
    "exp_container.sweep_samples([2, 4, 8], \"MP_APST_4\", traffic_scaling_factor=10)"
   ]
  },
  {
   "cell_type": "code",
   "execution_count": 4,
   "metadata": {},
   "outputs": [
    {
     "name": "stdout",
     "output_type": "stream",
     "text": [
      "2 incoming matrices, 2 left after filtering\n",
      "edge list file already exists: /users/ziyzhang/EFM_experiments/pickled_data/from_graph_edgelists/(36,5)RRGtopo_edgelist.pickle\n",
      "4 incoming matrices, 4 left after filtering\n",
      "edge list file already exists: /users/ziyzhang/EFM_experiments/pickled_data/from_graph_edgelists/(36,5)RRGtopo_edgelist.pickle\n",
      "8 incoming matrices, 8 left after filtering\n",
      "edge list file already exists: /users/ziyzhang/EFM_experiments/pickled_data/from_graph_edgelists/(36,5)RRGtopo_edgelist.pickle\n"
     ]
    },
    {
     "data": {
      "text/plain": [
       "{'ave_message_lat_us': 2.5365438495120696,\n",
       " 'benchtime_ms': [430.252, 424.108, 430.409],\n",
       " 'sampling_interval_us': [270.787, 135.3935, 67.69675],\n",
       " 'obj_func_ECMP_ASP': [6.517922300744514,\n",
       "  5.057939273310819,\n",
       "  3.562891525728505],\n",
       " 'obj_func_MD': [11.400605201721191, 9.879371643066406, 5.080606460571289]}"
      ]
     },
     "execution_count": 4,
     "metadata": {},
     "output_type": "execute_result"
    }
   ],
   "source": [
    "exp_container.sweep_samples([2, 4, 8], \"IT\", traffic_scaling_factor=10)"
   ]
  },
  {
   "cell_type": "code",
   "execution_count": 3,
   "metadata": {},
   "outputs": [
    {
     "name": "stderr",
     "output_type": "stream",
     "text": [
      "/users/ziyzhang/miniconda3/envs/gt/lib/python3.12/site-packages/numpy/core/getlimits.py:549: UserWarning: The value of the smallest subnormal for <class 'numpy.float64'> type is zero.\n",
      "  setattr(self, word, getattr(machar, word).flat[0])\n",
      "/users/ziyzhang/miniconda3/envs/gt/lib/python3.12/site-packages/numpy/core/getlimits.py:89: UserWarning: The value of the smallest subnormal for <class 'numpy.float64'> type is zero.\n",
      "  return self._float_to_str(self.smallest_subnormal)\n",
      "/users/ziyzhang/miniconda3/envs/gt/lib/python3.12/site-packages/numpy/core/getlimits.py:549: UserWarning: The value of the smallest subnormal for <class 'numpy.float32'> type is zero.\n",
      "  setattr(self, word, getattr(machar, word).flat[0])\n",
      "/users/ziyzhang/miniconda3/envs/gt/lib/python3.12/site-packages/numpy/core/getlimits.py:89: UserWarning: The value of the smallest subnormal for <class 'numpy.float32'> type is zero.\n",
      "  return self._float_to_str(self.smallest_subnormal)\n"
     ]
    },
    {
     "name": "stdout",
     "output_type": "stream",
     "text": [
      "2 incoming matrices, 2 left after filtering\n",
      "auto scaling demand matrices, scaling factor = 16.35229972940387\n",
      "all required files exists, skipping pickle\n",
      "4 incoming matrices, 4 left after filtering\n",
      "auto scaling demand matrices, scaling factor = 15.040500032098727\n",
      "edge list file already exists: /users/ziyzhang/EFM_experiments/pickled_data/from_graph_edgelists/(36,5)RRGtopo_edgelist.pickle\n",
      "Set parameter WLSAccessID\n",
      "Set parameter WLSSecret\n",
      "Set parameter LicenseID to value 2411299\n",
      "Academic license 2411299 - for non-commercial use only - registered to zi___@ugent.be\n",
      "Set parameter Threads to value 1\n",
      "Optimal solution found\n",
      "8 incoming matrices, 8 left after filtering\n",
      "auto scaling demand matrices, scaling factor = 13.494300060993465\n",
      "edge list file already exists: /users/ziyzhang/EFM_experiments/pickled_data/from_graph_edgelists/(36,5)RRGtopo_edgelist.pickle\n",
      "Set parameter WLSAccessID\n",
      "Set parameter WLSSecret\n",
      "Set parameter LicenseID to value 2411299\n",
      "Academic license 2411299 - for non-commercial use only - registered to zi___@ugent.be\n",
      "Set parameter Threads to value 1\n",
      "Optimal solution found\n"
     ]
    },
    {
     "data": {
      "text/plain": [
       "{'ave_message_lat_us': 2.5365438495120696,\n",
       " 'benchtime_ms': [463.452, 425.044, 403.716],\n",
       " 'sampling_interval_us': [270.787, 135.3935, 67.69675],\n",
       " 'obj_func_ECMP_ASP': [6.517922300744513,\n",
       "  5.0579392733108195,\n",
       "  3.562891525728506],\n",
       " 'obj_func_MD': [None, 10.423131222292291, 5.199637407875738]}"
      ]
     },
     "execution_count": 3,
     "metadata": {},
     "output_type": "execute_result"
    }
   ],
   "source": [
    "exp_container.sweep_samples([2, 4, 8], \"MP_APST_4\", auto_scaling=True)"
   ]
  },
  {
   "cell_type": "code",
   "execution_count": 4,
   "metadata": {},
   "outputs": [
    {
     "name": "stdout",
     "output_type": "stream",
     "text": [
      "2 incoming matrices, 2 left after filtering\n",
      "auto scaling demand matrices, scaling factor = 16.35229972940387\n",
      "edge list file already exists: /users/ziyzhang/EFM_experiments/pickled_data/from_graph_edgelists/(36,5)RRGtopo_edgelist.pickle\n",
      "4 incoming matrices, 4 left after filtering\n",
      "auto scaling demand matrices, scaling factor = 15.040500032098727\n",
      "edge list file already exists: /users/ziyzhang/EFM_experiments/pickled_data/from_graph_edgelists/(36,5)RRGtopo_edgelist.pickle\n",
      "8 incoming matrices, 8 left after filtering\n",
      "auto scaling demand matrices, scaling factor = 13.494300060993465\n",
      "edge list file already exists: /users/ziyzhang/EFM_experiments/pickled_data/from_graph_edgelists/(36,5)RRGtopo_edgelist.pickle\n"
     ]
    },
    {
     "data": {
      "text/plain": [
       "{'ave_message_lat_us': 2.5365438495120696,\n",
       " 'benchtime_ms': [430.252, 432.836, 435.393],\n",
       " 'sampling_interval_us': [270.787, 135.3935, 67.69675],\n",
       " 'obj_func_ECMP_ASP': [6.517922300744513,\n",
       "  5.0579392733108195,\n",
       "  3.562891525728506],\n",
       " 'obj_func_MD': [11.400616645812988, 9.860540390014648, 5.083744525909424]}"
      ]
     },
     "execution_count": 4,
     "metadata": {},
     "output_type": "execute_result"
    }
   ],
   "source": [
    "exp_container.sweep_samples([2, 4, 8], \"IT\", auto_scaling=True)"
   ]
  },
  {
   "cell_type": "code",
   "execution_count": null,
   "metadata": {},
   "outputs": [],
   "source": []
  },
  {
   "cell_type": "code",
   "execution_count": 3,
   "metadata": {},
   "outputs": [
    {
     "data": {
      "text/plain": [
       "2.5365438495120696"
      ]
     },
     "execution_count": 3,
     "metadata": {},
     "output_type": "execute_result"
    }
   ],
   "source": [
    "exp_container.ave_message_lat_us"
   ]
  },
  {
   "cell_type": "code",
   "execution_count": 4,
   "metadata": {},
   "outputs": [
    {
     "name": "stderr",
     "output_type": "stream",
     "text": [
      "/users/ziyzhang/miniconda3/envs/gt/lib/python3.12/site-packages/numpy/core/getlimits.py:549: UserWarning: The value of the smallest subnormal for <class 'numpy.float64'> type is zero.\n",
      "  setattr(self, word, getattr(machar, word).flat[0])\n",
      "/users/ziyzhang/miniconda3/envs/gt/lib/python3.12/site-packages/numpy/core/getlimits.py:89: UserWarning: The value of the smallest subnormal for <class 'numpy.float64'> type is zero.\n",
      "  return self._float_to_str(self.smallest_subnormal)\n",
      "/users/ziyzhang/miniconda3/envs/gt/lib/python3.12/site-packages/numpy/core/getlimits.py:549: UserWarning: The value of the smallest subnormal for <class 'numpy.float32'> type is zero.\n",
      "  setattr(self, word, getattr(machar, word).flat[0])\n",
      "/users/ziyzhang/miniconda3/envs/gt/lib/python3.12/site-packages/numpy/core/getlimits.py:89: UserWarning: The value of the smallest subnormal for <class 'numpy.float32'> type is zero.\n",
      "  return self._float_to_str(self.smallest_subnormal)\n"
     ]
    },
    {
     "name": "stdout",
     "output_type": "stream",
     "text": [
      "2 incoming matrices, 2 left after filtering\n",
      "all required files exists, skipping pickle\n"
     ]
    },
    {
     "data": {
      "text/plain": [
       "{'benchtime_ms': 826.1,\n",
       " 'sampling_interval_us': 270.787,\n",
       " 'obj_func_ECMP_ASP': 3.9859242287028045,\n",
       " 'obj_func_MD': None}"
      ]
     },
     "execution_count": 4,
     "metadata": {},
     "output_type": "execute_result"
    }
   ],
   "source": [
    "exp_container.run_single_data_point(2, \"MP_APST_4\")"
   ]
  },
  {
   "cell_type": "code",
   "execution_count": 5,
   "metadata": {},
   "outputs": [
    {
     "name": "stdout",
     "output_type": "stream",
     "text": [
      "2 incoming matrices, 2 left after filtering\n",
      "all required files exists, skipping pickle\n"
     ]
    },
    {
     "data": {
      "text/plain": [
       "{'benchtime_ms': 454.348,\n",
       " 'sampling_interval_us': 270.787,\n",
       " 'obj_func_ECMP_ASP': 6.517922300744514,\n",
       " 'obj_func_MD': None}"
      ]
     },
     "execution_count": 5,
     "metadata": {},
     "output_type": "execute_result"
    }
   ],
   "source": [
    "exp_container.run_single_data_point(2, \"MP_APST_4\", traffic_scaling_factor=10)"
   ]
  },
  {
   "cell_type": "code",
   "execution_count": 6,
   "metadata": {},
   "outputs": [
    {
     "name": "stdout",
     "output_type": "stream",
     "text": [
      "2 incoming matrices, 2 left after filtering\n",
      "auto scaling demand matrices, scaling factor = 16.35229972940387\n",
      "edge list file already exists: /users/ziyzhang/EFM_experiments/pickled_data/from_graph_edgelists/(36,5)RRGtopo_edgelist.pickle\n",
      "Set parameter WLSAccessID\n",
      "Set parameter WLSSecret\n",
      "Set parameter LicenseID to value 2411299\n",
      "Academic license 2411299 - for non-commercial use only - registered to zi___@ugent.be\n",
      "Set parameter Threads to value 1\n",
      "Optimal solution found\n"
     ]
    },
    {
     "data": {
      "text/plain": [
       "{'benchtime_ms': 463.452,\n",
       " 'sampling_interval_us': 270.787,\n",
       " 'obj_func_ECMP_ASP': 6.517922300744513,\n",
       " 'obj_func_MD': 12.671731833576986}"
      ]
     },
     "execution_count": 6,
     "metadata": {},
     "output_type": "execute_result"
    }
   ],
   "source": [
    "exp_container.run_single_data_point(2, \"MP_APST_4\", auto_scaling=True)"
   ]
  },
  {
   "cell_type": "code",
   "execution_count": null,
   "metadata": {},
   "outputs": [],
   "source": []
  },
  {
   "cell_type": "code",
   "execution_count": 7,
   "metadata": {},
   "outputs": [
    {
     "name": "stdout",
     "output_type": "stream",
     "text": [
      "32 incoming matrices, 32 left after filtering\n",
      "edge list file already exists: /users/ziyzhang/EFM_experiments/pickled_data/from_graph_edgelists/(36,5)RRGtopo_edgelist.pickle\n",
      "Set parameter WLSAccessID\n",
      "Set parameter WLSSecret\n",
      "Set parameter LicenseID to value 2411299\n",
      "Academic license 2411299 - for non-commercial use only - registered to zi___@ugent.be\n",
      "Set parameter Threads to value 1\n",
      "Optimal solution found\n"
     ]
    },
    {
     "data": {
      "text/plain": [
       "{'benchtime_ms': 421.724,\n",
       " 'sampling_interval_us': 16.9241875,\n",
       " 'obj_func_ECMP_ASP': 1.971235570687424,\n",
       " 'obj_func_MD': 2.4741091005335427}"
      ]
     },
     "execution_count": 7,
     "metadata": {},
     "output_type": "execute_result"
    }
   ],
   "source": [
    "exp_container.run_single_data_point(32, \"MP_APST_4\", 0.0, 10.0)"
   ]
  },
  {
   "cell_type": "code",
   "execution_count": 8,
   "metadata": {},
   "outputs": [
    {
     "name": "stdout",
     "output_type": "stream",
     "text": [
      "32 incoming matrices, 32 left after filtering\n",
      "auto scaling demand matrices, scaling factor = 10.638035445317975\n",
      "edge list file already exists: /users/ziyzhang/EFM_experiments/pickled_data/from_graph_edgelists/(36,5)RRGtopo_edgelist.pickle\n",
      "Set parameter WLSAccessID\n",
      "Set parameter WLSSecret\n",
      "Set parameter LicenseID to value 2411299\n",
      "Academic license 2411299 - for non-commercial use only - registered to zi___@ugent.be\n",
      "Set parameter Threads to value 1\n",
      "Optimal solution found\n"
     ]
    },
    {
     "data": {
      "text/plain": [
       "{'benchtime_ms': 432.476,\n",
       " 'sampling_interval_us': 16.9241875,\n",
       " 'obj_func_ECMP_ASP': 1.9825128668439793,\n",
       " 'obj_func_MD': 2.491900129992944}"
      ]
     },
     "execution_count": 8,
     "metadata": {},
     "output_type": "execute_result"
    }
   ],
   "source": [
    "exp_container.run_single_data_point(32, \"MP_APST_4\", auto_scaling=True)"
   ]
  },
  {
   "cell_type": "code",
   "execution_count": null,
   "metadata": {},
   "outputs": [
    {
     "name": "stdout",
     "output_type": "stream",
     "text": [
      "32 incoming matrices, 25 left after filtering\n",
      "edge list file already exists: /users/ziyzhang/EFM_experiments/pickled_data/from_graph_edgelists/(36,5)RRGtopo_edgelist.pickle\n",
      "Set parameter WLSAccessID\n",
      "Set parameter WLSSecret\n",
      "Set parameter LicenseID to value 2411299\n",
      "Academic license 2411299 - for non-commercial use only - registered to zi___@ugent.be\n",
      "Set parameter Threads to value 1\n",
      "Optimal solution found\n"
     ]
    },
    {
     "data": {
      "text/plain": [
       "{'benchtime_ms': 428.42,\n",
       " 'sampling_interval_us': 16.9241875,\n",
       " 'obj_func_ECMP_ASP': 2.7420239400773276,\n",
       " 'obj_func_MD': 4.25598140556932}"
      ]
     },
     "execution_count": 7,
     "metadata": {},
     "output_type": "execute_result"
    }
   ],
   "source": [
    "# exp_container.run_single_data_point(32, \"MP_APST_4\", 0.7, 10.0)"
   ]
  },
  {
   "cell_type": "code",
   "execution_count": null,
   "metadata": {},
   "outputs": [],
   "source": []
  }
 ],
 "metadata": {
  "kernelspec": {
   "display_name": "gt",
   "language": "python",
   "name": "python3"
  },
  "language_info": {
   "codemirror_mode": {
    "name": "ipython",
    "version": 3
   },
   "file_extension": ".py",
   "mimetype": "text/x-python",
   "name": "python",
   "nbconvert_exporter": "python",
   "pygments_lexer": "ipython3",
   "version": "3.12.3"
  }
 },
 "nbformat": 4,
 "nbformat_minor": 2
}
