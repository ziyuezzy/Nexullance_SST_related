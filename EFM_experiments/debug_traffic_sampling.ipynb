{
 "cells": [
  {
   "cell_type": "code",
   "execution_count": 1,
   "metadata": {},
   "outputs": [],
   "source": [
    "import os, sys\n",
    "sys.path.append(\"/users/ziyzhang/EFM_experiments/\")\n",
    "import io\n",
    "from contextlib import redirect_stdout\n",
    "import re\n",
    "from topoResearch.pickle_data_MD_nexullance import pickle_MD_nexullance_paths\n",
    "from traffic_analyser.traffic_analyser import traffic_analyser\n",
    "sys.path.append(\"/users/ziyzhang/EFM_experiments/topoResearch/\")\n",
    "from topoResearch.topologies.HPC_topo import HPC_topo\n",
    "import topoResearch.globals as gl"
   ]
  },
  {
   "cell_type": "code",
   "execution_count": 2,
   "metadata": {},
   "outputs": [],
   "source": [
    "problem_size=100\n",
    "benchmark = \"FFT3D\"\n",
    "benchargs:str=f\" nx={problem_size} ny={problem_size} nz={problem_size} npRow=12\"\n",
    "num_samples_list=[2, 4, 8, 16, 32, 64, 128]"
   ]
  },
  {
   "cell_type": "code",
   "execution_count": 3,
   "metadata": {},
   "outputs": [
    {
     "name": "stderr",
     "output_type": "stream",
     "text": [
      "/users/ziyzhang/miniconda3/envs/gt/lib/python3.12/site-packages/numpy/core/getlimits.py:549: UserWarning: The value of the smallest subnormal for <class 'numpy.float64'> type is zero.\n",
      "  setattr(self, word, getattr(machar, word).flat[0])\n",
      "/users/ziyzhang/miniconda3/envs/gt/lib/python3.12/site-packages/numpy/core/getlimits.py:89: UserWarning: The value of the smallest subnormal for <class 'numpy.float64'> type is zero.\n",
      "  return self._float_to_str(self.smallest_subnormal)\n",
      "/users/ziyzhang/miniconda3/envs/gt/lib/python3.12/site-packages/numpy/core/getlimits.py:549: UserWarning: The value of the smallest subnormal for <class 'numpy.float32'> type is zero.\n",
      "  setattr(self, word, getattr(machar, word).flat[0])\n",
      "/users/ziyzhang/miniconda3/envs/gt/lib/python3.12/site-packages/numpy/core/getlimits.py:89: UserWarning: The value of the smallest subnormal for <class 'numpy.float32'> type is zero.\n",
      "  return self._float_to_str(self.smallest_subnormal)\n"
     ]
    }
   ],
   "source": [
    "traffic_trace_file=f\"/users/ziyzhang/EFM_experiments/EFM_experiments/RRG_1CPE/traffic_traces/{benchmark}{benchargs}.csv\"\n",
    "V=36\n",
    "D=5\n",
    "topo_name=\"RRG\"\n",
    "analyser=traffic_analyser(traffic_trace_file, V,  D, topo_name, \n",
    "                            (D+1)//2, \"\", processing_method=2)\n",
    "results={\"benchtime\": [], \n",
    "            \"obj_func_ECMP_ASP\": [], \n",
    "            \"obj_func_MD\": []}\n",
    "for num_samples in num_samples_list:\n",
    "    sampled_demand_matrices, weights = analyser.sample_traffic(num_samples, \"Sent\")\n",
    "\n",
    "    EPR=(D+1)//2\n",
    "    Cap=16\n",
    "    _network = HPC_topo.initialize_child_instance(topo_name, V, D)\n",
    "    _network.pre_calculate_ECMP_ASP()\n",
    "    ECMP_ASP_phis=[]\n",
    "    for M_EPs in sampled_demand_matrices:\n",
    "        # apply this routing table\n",
    "        core_link_flows, access_link_flows = _network.distribute_M_EPs_on_weighted_paths(_network.ECMP_ASP, EPR, M_EPs)\n",
    "        # calculate phi\n",
    "        phi = gl.network_total_throughput(M_EPs, max(core_link_flows)/Cap, max(access_link_flows)/Cap)/(V*EPR)\n",
    "        ECMP_ASP_phis.append(phi)\n",
    "    results[\"obj_func_ECMP_ASP\"].append(gl.cal_MD_obj_func(ECMP_ASP_phis, weights))"
   ]
  },
  {
   "cell_type": "code",
   "execution_count": 4,
   "metadata": {},
   "outputs": [
    {
     "data": {
      "text/plain": [
       "{'benchtime': [],\n",
       " 'obj_func_ECMP_ASP': [3.9859242287028045,\n",
       "  3.1299097907413365,\n",
       "  1.1045130663430338,\n",
       "  0.993609833349138,\n",
       "  0.7256441611827037,\n",
       "  0.32981165008347363,\n",
       "  0.19447892378440343],\n",
       " 'obj_func_MD': []}"
      ]
     },
     "execution_count": 4,
     "metadata": {},
     "output_type": "execute_result"
    }
   ],
   "source": [
    "results"
   ]
  },
  {
   "cell_type": "code",
   "execution_count": null,
   "metadata": {},
   "outputs": [],
   "source": []
  },
  {
   "cell_type": "code",
   "execution_count": 5,
   "metadata": {},
   "outputs": [
    {
     "data": {
      "text/plain": [
       "[3.979189875765413, 3.9926814146256]"
      ]
     },
     "metadata": {},
     "output_type": "display_data"
    },
    {
     "data": {
      "text/plain": [
       "3.9859242287028045"
      ]
     },
     "execution_count": 5,
     "metadata": {},
     "output_type": "execute_result"
    }
   ],
   "source": [
    "sampled_demand_matrices, weights = analyser.sample_traffic(2, \"Sent\")\n",
    "\n",
    "EPR=(D+1)//2\n",
    "Cap=16\n",
    "_network = HPC_topo.initialize_child_instance(topo_name, V, D)\n",
    "_network.pre_calculate_ECMP_ASP()\n",
    "ECMP_ASP_phis=[]\n",
    "for M_EPs in sampled_demand_matrices:\n",
    "    # apply this routing table\n",
    "    core_link_flows, access_link_flows = _network.distribute_M_EPs_on_weighted_paths(_network.ECMP_ASP, EPR, M_EPs)\n",
    "    # calculate phi\n",
    "    phi = gl.network_total_throughput(M_EPs, max(core_link_flows)/Cap, max(access_link_flows)/Cap)/(V*EPR)\n",
    "    ECMP_ASP_phis.append(phi)\n",
    "\n",
    "display(ECMP_ASP_phis)\n",
    "gl.cal_MD_obj_func(ECMP_ASP_phis, weights)"
   ]
  },
  {
   "cell_type": "code",
   "execution_count": 7,
   "metadata": {},
   "outputs": [
    {
     "data": {
      "text/plain": [
       "[3.998442947299429, 3.959936804231398, 6.368111385619612, 1.6172514436315875]"
      ]
     },
     "metadata": {},
     "output_type": "display_data"
    },
    {
     "data": {
      "text/plain": [
       "3.1299097907413365"
      ]
     },
     "execution_count": 7,
     "metadata": {},
     "output_type": "execute_result"
    }
   ],
   "source": [
    "sampled_demand_matrices, weights = analyser.sample_traffic(4, \"Sent\")\n",
    "\n",
    "EPR=(D+1)//2\n",
    "Cap=16\n",
    "_network = HPC_topo.initialize_child_instance(topo_name, V, D)\n",
    "_network.pre_calculate_ECMP_ASP()\n",
    "ECMP_ASP_phis=[]\n",
    "for M_EPs in sampled_demand_matrices:\n",
    "    # apply this routing table\n",
    "    core_link_flows, access_link_flows = _network.distribute_M_EPs_on_weighted_paths(_network.ECMP_ASP, EPR, M_EPs)\n",
    "    # calculate phi\n",
    "    phi = gl.network_total_throughput(M_EPs, max(core_link_flows)/Cap, max(access_link_flows)/Cap)/(V*EPR)\n",
    "    ECMP_ASP_phis.append(phi)\n",
    "\n",
    "display(ECMP_ASP_phis)\n",
    "gl.cal_MD_obj_func(ECMP_ASP_phis, weights)"
   ]
  },
  {
   "cell_type": "code",
   "execution_count": 12,
   "metadata": {},
   "outputs": [
    {
     "data": {
      "text/plain": [
       "[5.573769406567879,\n",
       " 2.4231164880309786,\n",
       " 3.806371250657719,\n",
       " 4.113502357805076,\n",
       " 5.878535938250769,\n",
       " 6.857686832988455,\n",
       " 3.0527369536997035,\n",
       " 0.18176593356347184]"
      ]
     },
     "metadata": {},
     "output_type": "display_data"
    },
    {
     "data": {
      "text/plain": [
       "1.1045130663430338"
      ]
     },
     "execution_count": 12,
     "metadata": {},
     "output_type": "execute_result"
    }
   ],
   "source": [
    "sampled_demand_matrices, weights = analyser.sample_traffic(8, \"Sent\")\n",
    "\n",
    "EPR=(D+1)//2\n",
    "Cap=16\n",
    "_network = HPC_topo.initialize_child_instance(topo_name, V, D)\n",
    "_network.pre_calculate_ECMP_ASP()\n",
    "ECMP_ASP_phis=[]\n",
    "for M_EPs in sampled_demand_matrices:\n",
    "    # apply this routing table\n",
    "    core_link_flows, access_link_flows = _network.distribute_M_EPs_on_weighted_paths(_network.ECMP_ASP, EPR, M_EPs)\n",
    "    # calculate phi\n",
    "    phi = gl.network_total_throughput(M_EPs, max(core_link_flows)/Cap, max(access_link_flows)/Cap)/(V*EPR)\n",
    "    ECMP_ASP_phis.append(phi)\n",
    "\n",
    "display(ECMP_ASP_phis)\n",
    "gl.cal_MD_obj_func(ECMP_ASP_phis, weights)"
   ]
  },
  {
   "cell_type": "code",
   "execution_count": 13,
   "metadata": {},
   "outputs": [
    {
     "data": {
      "text/plain": [
       "3.9859356451955064"
      ]
     },
     "execution_count": 13,
     "metadata": {},
     "output_type": "execute_result"
    }
   ],
   "source": [
    "sum( ECMP_ASP_phis  )/len(ECMP_ASP_phis)"
   ]
  },
  {
   "cell_type": "code",
   "execution_count": 14,
   "metadata": {},
   "outputs": [
    {
     "data": {
      "text/plain": [
       "1.1045130663430338"
      ]
     },
     "execution_count": 14,
     "metadata": {},
     "output_type": "execute_result"
    }
   ],
   "source": [
    "1/(sum([weights[i]/ECMP_ASP_phis[i] for i in range(len(ECMP_ASP_phis))]))"
   ]
  },
  {
   "cell_type": "code",
   "execution_count": null,
   "metadata": {},
   "outputs": [],
   "source": []
  }
 ],
 "metadata": {
  "kernelspec": {
   "display_name": "gt",
   "language": "python",
   "name": "python3"
  },
  "language_info": {
   "codemirror_mode": {
    "name": "ipython",
    "version": 3
   },
   "file_extension": ".py",
   "mimetype": "text/x-python",
   "name": "python",
   "nbconvert_exporter": "python",
   "pygments_lexer": "ipython3",
   "version": "3.12.3"
  }
 },
 "nbformat": 4,
 "nbformat_minor": 2
}
